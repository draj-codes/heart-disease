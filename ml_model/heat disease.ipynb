{
 "cells": [
  {
   "cell_type": "markdown",
   "id": "2f709a66",
   "metadata": {},
   "source": [
    "# **Heart disease prediction using**"
   ]
  },
  {
   "cell_type": "markdown",
   "id": "382f0b63",
   "metadata": {},
   "source": [
    "![alt text](heartillustrationts51811362_1191108.jpg)"
   ]
  },
  {
   "cell_type": "markdown",
   "id": "a62d0472",
   "metadata": {},
   "source": [
    "# Project Objective\n",
    "Heart Disease Prediction using Machine Learning\n",
    "Heart disease prevention is critical, and data-driven prediction systems can significantly aid in early diagnosis and treatment. Machine Learning offers accurate prediction capabilities, enhancing healthcare outcomes.\n",
    "In this project, I analyzed a heart disease dataset with appropriate preprocessing. Multiple classification algorithms were implemented in Python using Scikit-learn and Keras to predict the presence of heart disease.\n",
    "\n",
    "**Algorithms Used**:\n",
    "- Logistic Regression\n",
    "- Naive Bayes\n",
    "- Support Vector Machine (Linear)\n",
    "- K-Nearest Neighbors\n",
    "- Decision Tree\n",
    "- Random Forest\n",
    "- XGBoost\n",
    "- Artificial Neural Network (1 Hidden Layer, Keras)"
   ]
  },
  {
   "cell_type": "markdown",
   "id": "4f888bee",
   "metadata": {},
   "source": [
    "### Step - 1 import all modules"
   ]
  },
  {
   "cell_type": "code",
   "execution_count": 3,
   "id": "d2cdd54a",
   "metadata": {},
   "outputs": [],
   "source": [
    "import pandas as pd\n",
    "import numpy as np\n",
    "import seaborn as sns\n",
    "import matplotlib.pyplot as plt\n",
    "import os \n",
    "import warnings\n",
    "import IPython\n",
    "import time\n",
    "from sklearn.model_selection import train_test_split\n",
    "from sklearn.preprocessing import StandardScaler\n",
    "from sklearn.metrics import mean_absolute_error, mean_squared_error,root_mean_squared_error\n",
    "\n",
    "warnings.filterwarnings(\"ignore\")\n"
   ]
  },
  {
   "cell_type": "markdown",
   "id": "07e51383",
   "metadata": {},
   "source": [
    "### Step-2 Load data"
   ]
  },
  {
   "cell_type": "code",
   "execution_count": 6,
   "id": "59a889cd",
   "metadata": {},
   "outputs": [],
   "source": [
    "df= pd.read_csv(\"heart.csv\")"
   ]
  }
 ],
 "metadata": {
  "kernelspec": {
   "display_name": "Python 3",
   "language": "python",
   "name": "python3"
  },
  "language_info": {
   "codemirror_mode": {
    "name": "ipython",
    "version": 3
   },
   "file_extension": ".py",
   "mimetype": "text/x-python",
   "name": "python",
   "nbconvert_exporter": "python",
   "pygments_lexer": "ipython3",
   "version": "3.13.5"
  }
 },
 "nbformat": 4,
 "nbformat_minor": 5
}
