{
 "cells": [
  {
   "cell_type": "markdown",
   "id": "2f709a66",
   "metadata": {},
   "source": [
    "# **heart disease prediction using**"
   ]
  }
 ],
 "metadata": {
  "language_info": {
   "name": "python"
  }
 },
 "nbformat": 4,
 "nbformat_minor": 5
}
